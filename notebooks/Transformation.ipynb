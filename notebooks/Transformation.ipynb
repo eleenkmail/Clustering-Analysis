{
 "cells": [
  {
   "cell_type": "code",
   "execution_count": null,
   "metadata": {},
   "outputs": [],
   "source": [
    "# necessery libraries\n",
    "import pandas as pd\n",
    "import sys\n",
    "from sklearn.preprocessing import StandardScaler\n",
    "sys.path.insert(0,'../src/utils/')\n",
    "import transform_data as TRD"
   ]
  },
  {
   "cell_type": "code",
   "execution_count": null,
   "metadata": {},
   "outputs": [],
   "source": [
    "# set option setting to display all columns\n",
    "pd.set_option('display.max_columns', None)"
   ]
  },
  {
   "cell_type": "code",
   "execution_count": null,
   "metadata": {},
   "outputs": [],
   "source": [
    "#load data\n",
    "data = pd.read_csv(\"../data/featsel/Citywide_Survey_featsel.csv\")"
   ]
  },
  {
   "cell_type": "code",
   "execution_count": null,
   "metadata": {},
   "outputs": [],
   "source": [
    "# drop unneeded column ('Unnamed: 0')\n",
    "data.drop(columns=['Unnamed: 0'], inplace=True)"
   ]
  },
  {
   "cell_type": "code",
   "execution_count": null,
   "metadata": {},
   "outputs": [],
   "source": [
    "# show data\n",
    "data"
   ]
  },
  {
   "cell_type": "code",
   "execution_count": null,
   "metadata": {},
   "outputs": [],
   "source": [
    "# list date and categorical features\n",
    "not_numeric_features = list(data.dtypes[data.dtypes == object].index)"
   ]
  },
  {
   "cell_type": "code",
   "execution_count": null,
   "metadata": {},
   "outputs": [],
   "source": [
    "print(not_numeric_features)"
   ]
  },
  {
   "cell_type": "code",
   "execution_count": null,
   "metadata": {},
   "outputs": [],
   "source": [
    "date_features = ['first_travel_date','last_travel_date']  #date features \n",
    "categorical_features = ['cms_zone', 'work_cms_zone']  #categorical features\n",
    "\n",
    "# all features to be encoded include categorical and labeled features\n",
    "features_to_encode = ['cms_zone', 'work_cms_zone','smartphone_type','made_trips', 'employment',\n",
    "'age', 'student','vehicle',  'congestion','drive_cbd_freq', 'planning_apps','job_type', 'industry',\n",
    "'telework_freq', 'work_mode','bike_freq', 'tnc_freq', 'tnc_purpose',\n",
    "'tnc_mode', 'packages', 'harassment', 'gender', 'education', 'english_proficiency', 'ethnicity']"
   ]
  },
  {
   "cell_type": "code",
   "execution_count": null,
   "metadata": {},
   "outputs": [],
   "source": [
    "# show categorical data\n",
    "data[categorical_features]"
   ]
  },
  {
   "cell_type": "code",
   "execution_count": null,
   "metadata": {},
   "outputs": [],
   "source": [
    "# show unique values for categorical fearures\n",
    "data['cms_zone'].unique()"
   ]
  },
  {
   "cell_type": "code",
   "execution_count": null,
   "metadata": {},
   "outputs": [],
   "source": [
    "data['work_cms_zone'].unique()"
   ]
  },
  {
   "attachments": {},
   "cell_type": "markdown",
   "metadata": {},
   "source": [
    "### Feature Engineering"
   ]
  },
  {
   "cell_type": "code",
   "execution_count": null,
   "metadata": {},
   "outputs": [],
   "source": [
    "# one hot encoding\n",
    "for feature in features_to_encode:\n",
    "    TRD.one_hot_encoding(data, feature)"
   ]
  },
  {
   "cell_type": "code",
   "execution_count": null,
   "metadata": {},
   "outputs": [],
   "source": [
    "# show data after applying one hot encoding\n",
    "data"
   ]
  },
  {
   "cell_type": "code",
   "execution_count": null,
   "metadata": {},
   "outputs": [],
   "source": [
    "# extract day, month and year columns from dates \n",
    "TRD.date_transform(data, date_features)"
   ]
  },
  {
   "cell_type": "code",
   "execution_count": null,
   "metadata": {},
   "outputs": [],
   "source": [
    "# show values of trip years\n",
    "print(data['last_travel_date_year'].unique(), data['first_travel_date_year'].unique())"
   ]
  },
  {
   "cell_type": "code",
   "execution_count": null,
   "metadata": {},
   "outputs": [],
   "source": [
    "# drop trip year columns \n",
    "data.drop(columns= ['last_travel_date_year','first_travel_date_year'], inplace=True)"
   ]
  },
  {
   "attachments": {},
   "cell_type": "markdown",
   "metadata": {},
   "source": [
    "### 1. Doing Feature Engineering for first travel date and last travel date by extracting day, month and year from each.\n",
    "### 2. Drop original dates from data in addition to the years columns extracted beacuse there is only one value for both ==> 2019 "
   ]
  },
  {
   "cell_type": "code",
   "execution_count": null,
   "metadata": {},
   "outputs": [],
   "source": [
    "# final data before scaling\n",
    "data"
   ]
  },
  {
   "cell_type": "code",
   "execution_count": null,
   "metadata": {},
   "outputs": [],
   "source": [
    "# share processed data before scaling\n",
    "data.to_csv(\"../data/processed/Citywide_Survey_Processed.csv\")"
   ]
  },
  {
   "attachments": {},
   "cell_type": "markdown",
   "metadata": {},
   "source": [
    "### Scaling"
   ]
  },
  {
   "cell_type": "code",
   "execution_count": null,
   "metadata": {},
   "outputs": [],
   "source": [
    "# list of features to scale\n",
    "features_to_scale = ['num_trips', 'num_walk_trips', 'num_transit_trips', 'num_bike_trips', 'num_taxi_trips', 'num_tnc_trips',\\\n",
    "    'num_complete_weekend_days','num_complete_weekdays', 'jobs_count','last_travel_date_day', 'last_travel_date_month', 'first_travel_date_day',\\\n",
    "        'first_travel_date_month']"
   ]
  },
  {
   "cell_type": "code",
   "execution_count": null,
   "metadata": {},
   "outputs": [],
   "source": [
    "# copy data to another dataframe to scael it\n",
    "data_to_scale = data.copy()"
   ]
  },
  {
   "cell_type": "code",
   "execution_count": null,
   "metadata": {},
   "outputs": [],
   "source": [
    "# scale the data with standard scaler \n",
    "TRD.scaling(data_to_scale, features_to_scale, StandardScaler())"
   ]
  },
  {
   "cell_type": "code",
   "execution_count": null,
   "metadata": {},
   "outputs": [],
   "source": [
    "# show data scaled\n",
    "data_to_scale"
   ]
  },
  {
   "cell_type": "code",
   "execution_count": null,
   "metadata": {},
   "outputs": [],
   "source": [
    "# share final data \n",
    "data_to_scale.to_csv('../data/processed/Citywide_Survey_Processed_Scaled.csv')"
   ]
  }
 ],
 "metadata": {
  "kernelspec": {
   "display_name": ".venv",
   "language": "python",
   "name": "python3"
  },
  "language_info": {
   "codemirror_mode": {
    "name": "ipython",
    "version": 3
   },
   "file_extension": ".py",
   "mimetype": "text/x-python",
   "name": "python",
   "nbconvert_exporter": "python",
   "pygments_lexer": "ipython3",
   "version": "3.8.8"
  },
  "orig_nbformat": 4,
  "vscode": {
   "interpreter": {
    "hash": "f69e833499ad2d4ef8f086c0d26ed71303116e094fca32fd975f676c3b0bb3d1"
   }
  }
 },
 "nbformat": 4,
 "nbformat_minor": 2
}
