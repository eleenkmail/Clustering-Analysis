{
 "cells": [
  {
   "cell_type": "code",
   "execution_count": 1,
   "metadata": {},
   "outputs": [],
   "source": [
    "# necessery libraries\n",
    "import pandas as pd\n",
    "import sys\n",
    "sys.path.insert(0,'../src/utils/')\n",
    "import general_look_at_data as  GLAD\n",
    "import cleaning_data as  CLD"
   ]
  },
  {
   "cell_type": "code",
   "execution_count": 2,
   "metadata": {},
   "outputs": [],
   "source": [
    "# data source must be updated to featsel folder rather than raw\n",
    "data = pd.read_csv('../data/featsel/Citywide_Survey_featsel.csv')"
   ]
  },
  {
   "cell_type": "markdown",
   "metadata": {},
   "source": [
    "# Handle Missing data"
   ]
  },
  {
   "cell_type": "code",
   "execution_count": 4,
   "metadata": {},
   "outputs": [
    {
     "data": {
      "text/html": [
       "<div>\n",
       "<style scoped>\n",
       "    .dataframe tbody tr th:only-of-type {\n",
       "        vertical-align: middle;\n",
       "    }\n",
       "\n",
       "    .dataframe tbody tr th {\n",
       "        vertical-align: top;\n",
       "    }\n",
       "\n",
       "    .dataframe thead th {\n",
       "        text-align: right;\n",
       "    }\n",
       "</style>\n",
       "<table border=\"1\" class=\"dataframe\">\n",
       "  <thead>\n",
       "    <tr style=\"text-align: right;\">\n",
       "      <th></th>\n",
       "      <th>missing_count</th>\n",
       "      <th>missing_percentage</th>\n",
       "      <th>dont_know_percentage</th>\n",
       "      <th>no_response_percentage</th>\n",
       "      <th>technological_error_percentage</th>\n",
       "      <th>prefer_not_to_answer_percentage</th>\n",
       "      <th>not_required_percentage</th>\n",
       "      <th>feature_type</th>\n",
       "    </tr>\n",
       "    <tr>\n",
       "      <th>feature</th>\n",
       "      <th></th>\n",
       "      <th></th>\n",
       "      <th></th>\n",
       "      <th></th>\n",
       "      <th></th>\n",
       "      <th></th>\n",
       "      <th></th>\n",
       "      <th></th>\n",
       "    </tr>\n",
       "  </thead>\n",
       "  <tbody>\n",
       "    <tr>\n",
       "      <th>school_park_amount_week</th>\n",
       "      <td>3342</td>\n",
       "      <td>0.998805</td>\n",
       "      <td>0.0</td>\n",
       "      <td>0.0</td>\n",
       "      <td>0.0</td>\n",
       "      <td>0.000000</td>\n",
       "      <td>0.000000</td>\n",
       "      <td>float64</td>\n",
       "    </tr>\n",
       "    <tr>\n",
       "      <th>work_park_amount_year</th>\n",
       "      <td>3342</td>\n",
       "      <td>0.998805</td>\n",
       "      <td>0.0</td>\n",
       "      <td>0.0</td>\n",
       "      <td>0.0</td>\n",
       "      <td>0.000000</td>\n",
       "      <td>0.000000</td>\n",
       "      <td>float64</td>\n",
       "    </tr>\n",
       "    <tr>\n",
       "      <th>school_park_amount_day</th>\n",
       "      <td>3340</td>\n",
       "      <td>0.998207</td>\n",
       "      <td>0.0</td>\n",
       "      <td>0.0</td>\n",
       "      <td>0.0</td>\n",
       "      <td>0.000000</td>\n",
       "      <td>0.000000</td>\n",
       "      <td>float64</td>\n",
       "    </tr>\n",
       "    <tr>\n",
       "      <th>school_park_amount_month</th>\n",
       "      <td>3339</td>\n",
       "      <td>0.997908</td>\n",
       "      <td>0.0</td>\n",
       "      <td>0.0</td>\n",
       "      <td>0.0</td>\n",
       "      <td>0.000000</td>\n",
       "      <td>0.000000</td>\n",
       "      <td>float64</td>\n",
       "    </tr>\n",
       "    <tr>\n",
       "      <th>school_park_amount_year</th>\n",
       "      <td>3339</td>\n",
       "      <td>0.997908</td>\n",
       "      <td>0.0</td>\n",
       "      <td>0.0</td>\n",
       "      <td>0.0</td>\n",
       "      <td>0.000000</td>\n",
       "      <td>0.000000</td>\n",
       "      <td>float64</td>\n",
       "    </tr>\n",
       "    <tr>\n",
       "      <th>...</th>\n",
       "      <td>...</td>\n",
       "      <td>...</td>\n",
       "      <td>...</td>\n",
       "      <td>...</td>\n",
       "      <td>...</td>\n",
       "      <td>...</td>\n",
       "      <td>...</td>\n",
       "      <td>...</td>\n",
       "    </tr>\n",
       "    <tr>\n",
       "      <th>school_bike_park</th>\n",
       "      <td>0</td>\n",
       "      <td>0.000000</td>\n",
       "      <td>0.0</td>\n",
       "      <td>0.0</td>\n",
       "      <td>0.0</td>\n",
       "      <td>0.000000</td>\n",
       "      <td>0.997908</td>\n",
       "      <td>int64</td>\n",
       "    </tr>\n",
       "    <tr>\n",
       "      <th>school_mode_bike</th>\n",
       "      <td>0</td>\n",
       "      <td>0.000000</td>\n",
       "      <td>0.0</td>\n",
       "      <td>0.0</td>\n",
       "      <td>0.0</td>\n",
       "      <td>0.000000</td>\n",
       "      <td>0.997908</td>\n",
       "      <td>int64</td>\n",
       "    </tr>\n",
       "    <tr>\n",
       "      <th>school_mode_taxi</th>\n",
       "      <td>0</td>\n",
       "      <td>0.000000</td>\n",
       "      <td>0.0</td>\n",
       "      <td>0.0</td>\n",
       "      <td>0.0</td>\n",
       "      <td>0.000000</td>\n",
       "      <td>0.998207</td>\n",
       "      <td>int64</td>\n",
       "    </tr>\n",
       "    <tr>\n",
       "      <th>school_egress</th>\n",
       "      <td>0</td>\n",
       "      <td>0.000000</td>\n",
       "      <td>0.0</td>\n",
       "      <td>0.0</td>\n",
       "      <td>0.0</td>\n",
       "      <td>0.000000</td>\n",
       "      <td>1.000000</td>\n",
       "      <td>int64</td>\n",
       "    </tr>\n",
       "    <tr>\n",
       "      <th>disability_none</th>\n",
       "      <td>0</td>\n",
       "      <td>0.000000</td>\n",
       "      <td>0.0</td>\n",
       "      <td>0.0</td>\n",
       "      <td>0.0</td>\n",
       "      <td>0.060072</td>\n",
       "      <td>0.000000</td>\n",
       "      <td>int64</td>\n",
       "    </tr>\n",
       "  </tbody>\n",
       "</table>\n",
       "<p>137 rows × 8 columns</p>\n",
       "</div>"
      ],
      "text/plain": [
       "                          missing_count  missing_percentage  \\\n",
       "feature                                                       \n",
       "school_park_amount_week            3342            0.998805   \n",
       "work_park_amount_year              3342            0.998805   \n",
       "school_park_amount_day             3340            0.998207   \n",
       "school_park_amount_month           3339            0.997908   \n",
       "school_park_amount_year            3339            0.997908   \n",
       "...                                 ...                 ...   \n",
       "school_bike_park                      0            0.000000   \n",
       "school_mode_bike                      0            0.000000   \n",
       "school_mode_taxi                      0            0.000000   \n",
       "school_egress                         0            0.000000   \n",
       "disability_none                       0            0.000000   \n",
       "\n",
       "                          dont_know_percentage  no_response_percentage  \\\n",
       "feature                                                                  \n",
       "school_park_amount_week                    0.0                     0.0   \n",
       "work_park_amount_year                      0.0                     0.0   \n",
       "school_park_amount_day                     0.0                     0.0   \n",
       "school_park_amount_month                   0.0                     0.0   \n",
       "school_park_amount_year                    0.0                     0.0   \n",
       "...                                        ...                     ...   \n",
       "school_bike_park                           0.0                     0.0   \n",
       "school_mode_bike                           0.0                     0.0   \n",
       "school_mode_taxi                           0.0                     0.0   \n",
       "school_egress                              0.0                     0.0   \n",
       "disability_none                            0.0                     0.0   \n",
       "\n",
       "                          technological_error_percentage  \\\n",
       "feature                                                    \n",
       "school_park_amount_week                              0.0   \n",
       "work_park_amount_year                                0.0   \n",
       "school_park_amount_day                               0.0   \n",
       "school_park_amount_month                             0.0   \n",
       "school_park_amount_year                              0.0   \n",
       "...                                                  ...   \n",
       "school_bike_park                                     0.0   \n",
       "school_mode_bike                                     0.0   \n",
       "school_mode_taxi                                     0.0   \n",
       "school_egress                                        0.0   \n",
       "disability_none                                      0.0   \n",
       "\n",
       "                          prefer_not_to_answer_percentage  \\\n",
       "feature                                                     \n",
       "school_park_amount_week                          0.000000   \n",
       "work_park_amount_year                            0.000000   \n",
       "school_park_amount_day                           0.000000   \n",
       "school_park_amount_month                         0.000000   \n",
       "school_park_amount_year                          0.000000   \n",
       "...                                                   ...   \n",
       "school_bike_park                                 0.000000   \n",
       "school_mode_bike                                 0.000000   \n",
       "school_mode_taxi                                 0.000000   \n",
       "school_egress                                    0.000000   \n",
       "disability_none                                  0.060072   \n",
       "\n",
       "                          not_required_percentage feature_type  \n",
       "feature                                                         \n",
       "school_park_amount_week                  0.000000      float64  \n",
       "work_park_amount_year                    0.000000      float64  \n",
       "school_park_amount_day                   0.000000      float64  \n",
       "school_park_amount_month                 0.000000      float64  \n",
       "school_park_amount_year                  0.000000      float64  \n",
       "...                                           ...          ...  \n",
       "school_bike_park                         0.997908        int64  \n",
       "school_mode_bike                         0.997908        int64  \n",
       "school_mode_taxi                         0.998207        int64  \n",
       "school_egress                            1.000000        int64  \n",
       "disability_none                          0.000000        int64  \n",
       "\n",
       "[137 rows x 8 columns]"
      ]
     },
     "execution_count": 4,
     "metadata": {},
     "output_type": "execute_result"
    }
   ],
   "source": [
    "# Display missing percentages\n",
    "feature_missing_stats = GLAD.get_feature_missing(data)\n",
    "feature_missing_stats"
   ]
  },
  {
   "cell_type": "markdown",
   "metadata": {},
   "source": [
    "## Handle Direct Missing Data"
   ]
  },
  {
   "cell_type": "code",
   "execution_count": 5,
   "metadata": {},
   "outputs": [
    {
     "data": {
      "text/html": [
       "<div>\n",
       "<style scoped>\n",
       "    .dataframe tbody tr th:only-of-type {\n",
       "        vertical-align: middle;\n",
       "    }\n",
       "\n",
       "    .dataframe tbody tr th {\n",
       "        vertical-align: top;\n",
       "    }\n",
       "\n",
       "    .dataframe thead th {\n",
       "        text-align: right;\n",
       "    }\n",
       "</style>\n",
       "<table border=\"1\" class=\"dataframe\">\n",
       "  <thead>\n",
       "    <tr style=\"text-align: right;\">\n",
       "      <th></th>\n",
       "      <th>missing_count</th>\n",
       "      <th>missing_percentage</th>\n",
       "    </tr>\n",
       "    <tr>\n",
       "      <th>feature</th>\n",
       "      <th></th>\n",
       "      <th></th>\n",
       "    </tr>\n",
       "  </thead>\n",
       "  <tbody>\n",
       "    <tr>\n",
       "      <th>school_park_amount_week</th>\n",
       "      <td>3342</td>\n",
       "      <td>0.998805</td>\n",
       "    </tr>\n",
       "    <tr>\n",
       "      <th>work_park_amount_year</th>\n",
       "      <td>3342</td>\n",
       "      <td>0.998805</td>\n",
       "    </tr>\n",
       "    <tr>\n",
       "      <th>school_park_amount_day</th>\n",
       "      <td>3340</td>\n",
       "      <td>0.998207</td>\n",
       "    </tr>\n",
       "    <tr>\n",
       "      <th>school_park_amount_month</th>\n",
       "      <td>3339</td>\n",
       "      <td>0.997908</td>\n",
       "    </tr>\n",
       "    <tr>\n",
       "      <th>school_park_amount_year</th>\n",
       "      <td>3339</td>\n",
       "      <td>0.997908</td>\n",
       "    </tr>\n",
       "    <tr>\n",
       "      <th>work_park_amount_week</th>\n",
       "      <td>3334</td>\n",
       "      <td>0.996414</td>\n",
       "    </tr>\n",
       "    <tr>\n",
       "      <th>work_park_amount_month</th>\n",
       "      <td>3324</td>\n",
       "      <td>0.993425</td>\n",
       "    </tr>\n",
       "    <tr>\n",
       "      <th>work_park_amount_day</th>\n",
       "      <td>3322</td>\n",
       "      <td>0.992827</td>\n",
       "    </tr>\n",
       "    <tr>\n",
       "      <th>school_cms_zone</th>\n",
       "      <td>3224</td>\n",
       "      <td>0.963539</td>\n",
       "    </tr>\n",
       "    <tr>\n",
       "      <th>work_cms_zone</th>\n",
       "      <td>1659</td>\n",
       "      <td>0.495816</td>\n",
       "    </tr>\n",
       "  </tbody>\n",
       "</table>\n",
       "</div>"
      ],
      "text/plain": [
       "                          missing_count  missing_percentage\n",
       "feature                                                    \n",
       "school_park_amount_week            3342            0.998805\n",
       "work_park_amount_year              3342            0.998805\n",
       "school_park_amount_day             3340            0.998207\n",
       "school_park_amount_month           3339            0.997908\n",
       "school_park_amount_year            3339            0.997908\n",
       "work_park_amount_week              3334            0.996414\n",
       "work_park_amount_month             3324            0.993425\n",
       "work_park_amount_day               3322            0.992827\n",
       "school_cms_zone                    3224            0.963539\n",
       "work_cms_zone                      1659            0.495816"
      ]
     },
     "execution_count": 5,
     "metadata": {},
     "output_type": "execute_result"
    }
   ],
   "source": [
    "# Display the direct missing value, which is NaN, For each column with a percentage nonzero.\n",
    "direct_missing = GLAD.display_direct_missing(feature_missing_stats)\n",
    "\n",
    "# Display result\n",
    "direct_missing"
   ]
  },
  {
   "cell_type": "code",
   "execution_count": 6,
   "metadata": {},
   "outputs": [
    {
     "data": {
      "text/plain": [
       "['school_park_amount_week',\n",
       " 'work_park_amount_year',\n",
       " 'school_park_amount_day',\n",
       " 'school_park_amount_month',\n",
       " 'school_park_amount_year',\n",
       " 'work_park_amount_week',\n",
       " 'work_park_amount_month',\n",
       " 'work_park_amount_day',\n",
       " 'school_cms_zone']"
      ]
     },
     "execution_count": 6,
     "metadata": {},
     "output_type": "execute_result"
    }
   ],
   "source": [
    "# Get the list of columns with more than 75% direct missing values\n",
    "features_gt75_missing = CLD.filter_direct_missing_columns(direct_missing, None, 0.75)\n",
    "\n",
    "# Display the feature list\n",
    "features_gt75_missing"
   ]
  },
  {
   "cell_type": "code",
   "execution_count": 7,
   "metadata": {},
   "outputs": [
    {
     "name": "stdout",
     "output_type": "stream",
     "text": [
      "Current number of columns:  156\n",
      "Updated number of columns:  147\n"
     ]
    }
   ],
   "source": [
    "# Delete all features that has more than 75% of direct missing data\n",
    "CLD.delete_columns(data, features_gt75_missing)"
   ]
  },
  {
   "cell_type": "code",
   "execution_count": 8,
   "metadata": {},
   "outputs": [],
   "source": [
    "# Update direct missing data percentages\n",
    "feature_missing_stats = GLAD.get_feature_missing(data)\n",
    "\n",
    "# Display the direct missing value, which is NaN, For each column with a percentage nonzero.\n",
    "direct_missing = GLAD.display_direct_missing(feature_missing_stats)"
   ]
  },
  {
   "cell_type": "code",
   "execution_count": 10,
   "metadata": {},
   "outputs": [
    {
     "data": {
      "text/plain": [
       "['work_cms_zone']"
      ]
     },
     "execution_count": 10,
     "metadata": {},
     "output_type": "execute_result"
    }
   ],
   "source": [
    "# Get the list of columns with less than 75% direct missing values\n",
    "features_st75_missing = CLD.filter_direct_missing_columns(direct_missing, None, 0)\n",
    "\n",
    "# Display the feature list\n",
    "features_st75_missing"
   ]
  },
  {
   "cell_type": "code",
   "execution_count": 11,
   "metadata": {},
   "outputs": [
    {
     "data": {
      "text/plain": [
       "'Provided columns successfully filled by mode value for each column.'"
      ]
     },
     "execution_count": 11,
     "metadata": {},
     "output_type": "execute_result"
    }
   ],
   "source": [
    "# Fill in the columns with the column's mod value if the proportion of missing data is less than 75%\n",
    "CLD.fill_by_mode(data, features_st75_missing)"
   ]
  },
  {
   "cell_type": "code",
   "execution_count": 13,
   "metadata": {},
   "outputs": [
    {
     "data": {
      "text/plain": [
       "'No Missing Data: NAN type'"
      ]
     },
     "execution_count": 13,
     "metadata": {},
     "output_type": "execute_result"
    }
   ],
   "source": [
    "# Update direct missing data percentages\n",
    "feature_missing_stats = GLAD.get_feature_missing(data)\n",
    "\n",
    "# Display the direct missing value, which is NaN, For each column with a percentage nonzero.\n",
    "direct_missing = GLAD.display_direct_missing(feature_missing_stats)\n",
    "\n",
    "direct_missing"
   ]
  },
  {
   "cell_type": "code",
   "execution_count": 14,
   "metadata": {},
   "outputs": [
    {
     "data": {
      "text/plain": [
       "(3346, 147)"
      ]
     },
     "execution_count": 14,
     "metadata": {},
     "output_type": "execute_result"
    }
   ],
   "source": [
    "# Display final shape from this processing\n",
    "data.shape"
   ]
  }
 ],
 "metadata": {
  "kernelspec": {
   "display_name": ".venv",
   "language": "python",
   "name": "python3"
  },
  "language_info": {
   "codemirror_mode": {
    "name": "ipython",
    "version": 3
   },
   "file_extension": ".py",
   "mimetype": "text/x-python",
   "name": "python",
   "nbconvert_exporter": "python",
   "pygments_lexer": "ipython3",
   "version": "3.10.0"
  },
  "orig_nbformat": 4,
  "vscode": {
   "interpreter": {
    "hash": "255d33b2215cabd9d3d9d7dd721a879d8b1111c74cdfef838b01eec83db1d4cf"
   }
  }
 },
 "nbformat": 4,
 "nbformat_minor": 2
}
